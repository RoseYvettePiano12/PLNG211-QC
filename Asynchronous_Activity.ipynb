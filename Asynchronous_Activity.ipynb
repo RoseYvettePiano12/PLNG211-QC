{
  "nbformat": 4,
  "nbformat_minor": 0,
  "metadata": {
    "colab": {
      "provenance": [],
      "authorship_tag": "ABX9TyOUAUfMbQikost2YmmPCQW6",
      "include_colab_link": true
    },
    "kernelspec": {
      "name": "python3",
      "display_name": "Python 3"
    },
    "language_info": {
      "name": "python"
    }
  },
  "cells": [
    {
      "cell_type": "markdown",
      "metadata": {
        "id": "view-in-github",
        "colab_type": "text"
      },
      "source": [
        "<a href=\"https://colab.research.google.com/github/RoseYvettePiano12/PLNG211-QC/blob/main/Asynchronous_Activity.ipynb\" target=\"_parent\"><img src=\"https://colab.research.google.com/assets/colab-badge.svg\" alt=\"Open In Colab\"/></a>"
      ]
    },
    {
      "cell_type": "markdown",
      "source": [
        "Asynchronous Activity\n"
      ],
      "metadata": {
        "id": "Z74dIHggUOIT"
      }
    },
    {
      "cell_type": "code",
      "source": [
        "Salary_rate=600\n",
        "Salary=Salary_rate*15\n",
        "Taxable_amount=int(30/100*Salary)\n",
        "Net_pay=Salary-Taxable_amount\n",
        "\n",
        "print(\"Salary Computation and Results \\n\")\n",
        "\n",
        "print(\"Salary rate =\",Salary_rate)\n",
        "print(\"Salary =\", Salary)\n",
        "print(\"Taxable amount =\",Taxable_amount)\n",
        "print(\"Net Pay =\", Net_pay)"
      ],
      "metadata": {
        "colab": {
          "base_uri": "https://localhost:8080/"
        },
        "id": "jLggWgBTUT07",
        "outputId": "1a675642-0ebd-469c-b2e5-9248b8f33109"
      },
      "execution_count": 6,
      "outputs": [
        {
          "output_type": "stream",
          "name": "stdout",
          "text": [
            "Salary Computation and Results \n",
            "\n",
            "Salary rate = 600\n",
            "Salary = 9000\n",
            "Taxable amount = 2700\n",
            "Net Pay = 6300\n"
          ]
        }
      ]
    }
  ]
}