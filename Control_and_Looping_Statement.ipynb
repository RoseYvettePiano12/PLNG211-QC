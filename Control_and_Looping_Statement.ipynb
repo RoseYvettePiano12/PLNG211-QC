{
  "nbformat": 4,
  "nbformat_minor": 0,
  "metadata": {
    "colab": {
      "provenance": [],
      "authorship_tag": "ABX9TyPcu/ccCLBf1sCYVjGSfxTi",
      "include_colab_link": true
    },
    "kernelspec": {
      "name": "python3",
      "display_name": "Python 3"
    },
    "language_info": {
      "name": "python"
    }
  },
  "cells": [
    {
      "cell_type": "markdown",
      "metadata": {
        "id": "view-in-github",
        "colab_type": "text"
      },
      "source": [
        "<a href=\"https://colab.research.google.com/github/RoseYvettePiano12/PLNG211-QC/blob/main/Control_and_Looping_Statement.ipynb\" target=\"_parent\"><img src=\"https://colab.research.google.com/assets/colab-badge.svg\" alt=\"Open In Colab\"/></a>"
      ]
    },
    {
      "cell_type": "code",
      "execution_count": null,
      "metadata": {
        "id": "a-xN2MBvL13e"
      },
      "outputs": [],
      "source": [
        "#if statement\n",
        "\n",
        "a = 100\n",
        "b= 100\n",
        "if a<b:\n",
        "  print(\"a is less that b\")"
      ]
    },
    {
      "cell_type": "code",
      "source": [
        "#Elif statement\n",
        "\n",
        "if a<b:\n",
        "  print(\"a is less than b\")\n",
        "elif a>b:\n",
        "  print(\"a greater than b\")"
      ],
      "metadata": {
        "id": "9oSCokw5MqKY"
      },
      "execution_count": null,
      "outputs": []
    },
    {
      "cell_type": "code",
      "source": [
        "if a<b:\n",
        "  print(\"a is less than b\")\n",
        "elif a>b:\n",
        "  print(\"a is greater than b\")\n",
        "else:\n",
        "  print (\"a is equal to b\")"
      ],
      "metadata": {
        "colab": {
          "base_uri": "https://localhost:8080/"
        },
        "id": "bLxmv1A8Muiq",
        "outputId": "92eab22b-4ae1-4fb6-ec45-3c444e29fdc6"
      },
      "execution_count": null,
      "outputs": [
        {
          "output_type": "stream",
          "name": "stdout",
          "text": [
            "a is equal to b\n"
          ]
        }
      ]
    },
    {
      "cell_type": "code",
      "source": [
        "# short hand if statement\n",
        "\n",
        "c = 5\n",
        "d=10\n",
        "if c>d: print(\"c>d\")"
      ],
      "metadata": {
        "id": "MBX9uD2lM0jG"
      },
      "execution_count": null,
      "outputs": []
    },
    {
      "cell_type": "code",
      "source": [
        "#shorthand if else statement\n",
        "\n",
        "print(\"c>d\") if c>d else print(\"d>c\")"
      ],
      "metadata": {
        "colab": {
          "base_uri": "https://localhost:8080/"
        },
        "id": "EvkWIPmMM4Tf",
        "outputId": "cb871f21-de48-449a-c720-4046ee30dabe"
      },
      "execution_count": null,
      "outputs": [
        {
          "output_type": "stream",
          "name": "stdout",
          "text": [
            "d>c\n"
          ]
        }
      ]
    },
    {
      "cell_type": "code",
      "source": [
        "#and statement\n",
        "\n",
        "if 5>10 and 8>4:\n",
        "  print(\"both statements are true\")\n",
        "else:\n",
        "  print(\"one of the statement is false /both statement\")"
      ],
      "metadata": {
        "colab": {
          "base_uri": "https://localhost:8080/"
        },
        "id": "O5X11ZuPNc4a",
        "outputId": "ed324691-6b31-4e9d-cd46-6de97bfcee7b"
      },
      "execution_count": null,
      "outputs": [
        {
          "output_type": "stream",
          "name": "stdout",
          "text": [
            "one of the statement is false /both statement\n"
          ]
        }
      ]
    },
    {
      "cell_type": "code",
      "source": [
        "#or statement\n",
        "\n",
        "if 5>10 or 4>8:\n",
        "  print('true')\n",
        "else:\n",
        "  print(\"false\")"
      ],
      "metadata": {
        "colab": {
          "base_uri": "https://localhost:8080/"
        },
        "id": "Wo0QGptQNqPn",
        "outputId": "3e172208-09a8-4639-b1e6-add6b5ad8f8a"
      },
      "execution_count": null,
      "outputs": [
        {
          "output_type": "stream",
          "name": "stdout",
          "text": [
            "false\n"
          ]
        }
      ]
    },
    {
      "cell_type": "code",
      "source": [
        "#bitwise operator ^(xor)\n",
        "\n",
        "e = 4 #0100 in binary\n",
        "f= 2 #0010 in binary\n",
        "e^f"
      ],
      "metadata": {
        "colab": {
          "base_uri": "https://localhost:8080/"
        },
        "id": "wT9e9qIaNxG3",
        "outputId": "94cb57ae-7406-4235-b5d1-0bb66c94ebd4"
      },
      "execution_count": null,
      "outputs": [
        {
          "output_type": "execute_result",
          "data": {
            "text/plain": [
              "6"
            ]
          },
          "metadata": {},
          "execution_count": 35
        }
      ]
    },
    {
      "cell_type": "code",
      "source": [
        "#nested if statement\n",
        "x=39\n",
        "if x>10:\n",
        "  print(\"Number is above 10\")\n",
        "  if x>20:\n",
        "    print(\"number is above 20\")\n",
        "    if x>30:\n",
        "     print(\"number is above 30\")\n",
        "     if x>40:\n",
        "      print(\"number is above 40\")\n",
        "      if x>50:\n",
        "       print(\"number is above 50\")\n",
        "      else:\n",
        "        print(\"the number is less than 50\")\n",
        "     else:\n",
        "      print(\"number is less than 40\")"
      ],
      "metadata": {
        "colab": {
          "base_uri": "https://localhost:8080/"
        },
        "id": "ACB1V8rLUPRp",
        "outputId": "91129cbd-d22c-4102-88d1-3b50578a772e"
      },
      "execution_count": null,
      "outputs": [
        {
          "output_type": "stream",
          "name": "stdout",
          "text": [
            "Number is above 10\n",
            "number is above 20\n",
            "number is above 30\n",
            "number is less than 40\n"
          ]
        }
      ]
    },
    {
      "cell_type": "code",
      "source": [
        "#Write a program that determines the input age is qualified to vote or not.\n",
        "#the qualifying age is 18 yrs old above.\n",
        "\n",
        "age=18\n",
        "if age>=18:\n",
        "  print(\"qualified to vote\")\n",
        "else:\n",
        "    print(\"you are not qualified to vote\")"
      ],
      "metadata": {
        "colab": {
          "base_uri": "https://localhost:8080/"
        },
        "id": "xrhUJPp3Wd5B",
        "outputId": "d60d6368-a6a9-4aa8-ca05-7b0e18762fe9"
      },
      "execution_count": null,
      "outputs": [
        {
          "output_type": "stream",
          "name": "stdout",
          "text": [
            "qualified to vote\n"
          ]
        }
      ]
    },
    {
      "cell_type": "code",
      "source": [
        "age=input(\"Enter age: \")\n",
        "if int(age)>=18:\n",
        "  print(\"You are qualified to vote\")\n",
        "else:  \n",
        "  print(\"you are not qualified to vote\")"
      ],
      "metadata": {
        "colab": {
          "base_uri": "https://localhost:8080/"
        },
        "id": "jojjYvHtWiQF",
        "outputId": "ceea949a-b669-4dd8-df35-663181354a63"
      },
      "execution_count": null,
      "outputs": [
        {
          "output_type": "stream",
          "name": "stdout",
          "text": [
            "Enter age: 19\n",
            "You are qualified to vote\n"
          ]
        }
      ]
    },
    {
      "cell_type": "code",
      "source": [
        "#application2. Write a program that determines if the input number is positive negative or zero\n",
        "\n",
        "n = 0\n",
        "if n>0:\n",
        "  print(\"positive number\")\n",
        "elif n<0:\n",
        "  print(\"negative number\")\n",
        "else:\n",
        "  print(\"it is zero\")"
      ],
      "metadata": {
        "colab": {
          "base_uri": "https://localhost:8080/"
        },
        "id": "bxgrgBwjWocD",
        "outputId": "3b5dfac7-002e-4347-a493-fe247a953fcf"
      },
      "execution_count": null,
      "outputs": [
        {
          "output_type": "stream",
          "name": "stdout",
          "text": [
            "it is zero\n"
          ]
        }
      ]
    },
    {
      "cell_type": "code",
      "source": [
        "num = input(\"Enter num: \")\n",
        "if int(num)>0:\n",
        "  print(\"The number is POSITIVE\")\n",
        "elif int(num)<0:\n",
        "  print(\"the numnber is NEGATIVE\")\n",
        "else:\n",
        "  print(\"it is zero!\")"
      ],
      "metadata": {
        "colab": {
          "base_uri": "https://localhost:8080/"
        },
        "id": "MCkP89kHWtP5",
        "outputId": "8e241234-f0ec-446d-c8d6-60aefccbf14c"
      },
      "execution_count": null,
      "outputs": [
        {
          "output_type": "stream",
          "name": "stdout",
          "text": [
            "Enter num: 12\n",
            "The number is POSITIVE\n"
          ]
        }
      ]
    },
    {
      "cell_type": "code",
      "source": [
        "#for loop statement \n",
        "\n",
        "week=[\"sunday\",\"monday\", \"tuesday\", \"wednesday\", \"thursday\", \"friday\", \"saturday\", \"Sunday\",]\n",
        "for y in week:\n",
        "  if y== \"thursday\":\n",
        "   break\n",
        "  print(y)"
      ],
      "metadata": {
        "colab": {
          "base_uri": "https://localhost:8080/"
        },
        "id": "F6zO8AbbWy0Z",
        "outputId": "7eb147e6-caec-48c0-f399-f7ec36212423"
      },
      "execution_count": null,
      "outputs": [
        {
          "output_type": "stream",
          "name": "stdout",
          "text": [
            "sunday\n",
            "monday\n",
            "tuesday\n",
            "wednesday\n"
          ]
        }
      ]
    },
    {
      "cell_type": "code",
      "source": [
        "for x in \"week\":\n",
        "  print(x)"
      ],
      "metadata": {
        "colab": {
          "base_uri": "https://localhost:8080/"
        },
        "id": "7bWx3T1mW19T",
        "outputId": "7a6c3e3c-82e5-4a95-c61b-afddd4b2df9a"
      },
      "execution_count": null,
      "outputs": [
        {
          "output_type": "stream",
          "name": "stdout",
          "text": [
            "w\n",
            "e\n",
            "e\n",
            "k\n"
          ]
        }
      ]
    },
    {
      "cell_type": "code",
      "source": [
        "#range function\n",
        "\n",
        "for x in range(6):\n",
        " \n",
        " print (x)"
      ],
      "metadata": {
        "colab": {
          "base_uri": "https://localhost:8080/"
        },
        "id": "2IxHe4lJW5s_",
        "outputId": "cae33581-eb65-4148-c5aa-94f72f982176"
      },
      "execution_count": null,
      "outputs": [
        {
          "output_type": "stream",
          "name": "stdout",
          "text": [
            "0\n",
            "1\n",
            "2\n",
            "3\n",
            "4\n",
            "5\n"
          ]
        }
      ]
    },
    {
      "cell_type": "code",
      "source": [
        "for x in range(2,6+1,1):\n",
        " print(x)"
      ],
      "metadata": {
        "colab": {
          "base_uri": "https://localhost:8080/"
        },
        "id": "blPUWukNFei6",
        "outputId": "de0ab025-6d69-44b0-b7ee-bd9ca9c4e172"
      },
      "execution_count": 1,
      "outputs": [
        {
          "output_type": "stream",
          "name": "stdout",
          "text": [
            "2\n",
            "3\n",
            "4\n",
            "5\n",
            "6\n"
          ]
        }
      ]
    },
    {
      "cell_type": "code",
      "source": [
        "adj = [\"red\",\"big\",\"tasty\"]\n",
        "fruits = [\"apple\",\"banana\",\"cherry\"]\n",
        "for x in adj:\n",
        "  for y in fruits:\n",
        "    print(x,y)"
      ],
      "metadata": {
        "colab": {
          "base_uri": "https://localhost:8080/"
        },
        "outputId": "cf3c95f7-55ef-4b45-c7b8-e7bbd9ab2889",
        "id": "_GOFCZ-fpisx"
      },
      "execution_count": 2,
      "outputs": [
        {
          "output_type": "stream",
          "name": "stdout",
          "text": [
            "red apple\n",
            "red banana\n",
            "red cherry\n",
            "big apple\n",
            "big banana\n",
            "big cherry\n",
            "tasty apple\n",
            "tasty banana\n",
            "tasty cherry\n"
          ]
        }
      ]
    },
    {
      "cell_type": "code",
      "source": [
        "i=1\n",
        "while i<6:\n",
        "  print(i)\n",
        "  i+=1 #i = i+1"
      ],
      "metadata": {
        "colab": {
          "base_uri": "https://localhost:8080/"
        },
        "id": "lD4rOAnCpnCE",
        "outputId": "ea9961f1-e843-4331-fa80-230d9885cc94"
      },
      "execution_count": 3,
      "outputs": [
        {
          "output_type": "stream",
          "name": "stdout",
          "text": [
            "1\n",
            "2\n",
            "3\n",
            "4\n",
            "5\n"
          ]
        }
      ]
    },
    {
      "cell_type": "code",
      "source": [
        " i=1\n",
        "while i<=6:\n",
        "  print(i)\n",
        "  if i ==3:\n",
        "    break\n",
        "  i+=1"
      ],
      "metadata": {
        "colab": {
          "base_uri": "https://localhost:8080/"
        },
        "id": "oqSNdoI7prdr",
        "outputId": "d36e630e-40f4-4f79-f206-165b329bb5fc"
      },
      "execution_count": 4,
      "outputs": [
        {
          "output_type": "stream",
          "name": "stdout",
          "text": [
            "1\n",
            "2\n",
            "3\n"
          ]
        }
      ]
    },
    {
      "cell_type": "code",
      "source": [
        "#using the while loop and break statement, the output is only 3\n",
        "i=3\n",
        "while i<=3:\n",
        "    print(i)\n",
        "    break"
      ],
      "metadata": {
        "id": "xBj_oE-5pukU",
        "outputId": "a35ebdf1-8b77-4790-cc47-94f8d996007b",
        "colab": {
          "base_uri": "https://localhost:8080/"
        }
      },
      "execution_count": 5,
      "outputs": [
        {
          "output_type": "stream",
          "name": "stdout",
          "text": [
            "3\n"
          ]
        }
      ]
    }
  ]
}