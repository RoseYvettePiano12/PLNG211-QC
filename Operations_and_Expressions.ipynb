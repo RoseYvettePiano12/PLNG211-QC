{
  "nbformat": 4,
  "nbformat_minor": 0,
  "metadata": {
    "colab": {
      "provenance": [],
      "authorship_tag": "ABX9TyPWlWhqAU0U9BRLl/qsLJek",
      "include_colab_link": true
    },
    "kernelspec": {
      "name": "python3",
      "display_name": "Python 3"
    },
    "language_info": {
      "name": "python"
    }
  },
  "cells": [
    {
      "cell_type": "markdown",
      "metadata": {
        "id": "view-in-github",
        "colab_type": "text"
      },
      "source": [
        "<a href=\"https://colab.research.google.com/github/RoseYvettePiano12/PLNG211-QC/blob/main/Operations_and_Expressions.ipynb\" target=\"_parent\"><img src=\"https://colab.research.google.com/assets/colab-badge.svg\" alt=\"Open In Colab\"/></a>"
      ]
    },
    {
      "cell_type": "markdown",
      "source": [
        "#Boolean Operators"
      ],
      "metadata": {
        "id": "Zw2RkM9sj4uk"
      }
    },
    {
      "cell_type": "code",
      "source": [
        "a=10\n",
        "b=9\n",
        "print(10>9)\n",
        "print(10<9)\n",
        "print(10==9)\n",
        "print(a!=b)"
      ],
      "metadata": {
        "colab": {
          "base_uri": "https://localhost:8080/"
        },
        "id": "xDFOwMFdj7cU",
        "outputId": "cb1c7be5-7ee0-457e-ea02-853fbc06247c"
      },
      "execution_count": null,
      "outputs": [
        {
          "output_type": "stream",
          "name": "stdout",
          "text": [
            "True\n",
            "False\n",
            "False\n",
            "True\n"
          ]
        }
      ]
    },
    {
      "cell_type": "markdown",
      "source": [
        "Bool() Function"
      ],
      "metadata": {
        "id": "UC09-7YBkhSP"
      }
    },
    {
      "cell_type": "code",
      "source": [
        "print(bool(15))\n",
        "print(bool(\"Maria\"))\n",
        "\n",
        "print(bool(0))\n",
        "print(bool(None))\n",
        "print(bool(False))"
      ],
      "metadata": {
        "colab": {
          "base_uri": "https://localhost:8080/"
        },
        "id": "9xIeYhftkkby",
        "outputId": "c9834095-c0cb-471b-b534-577b0d29662e"
      },
      "execution_count": null,
      "outputs": [
        {
          "output_type": "stream",
          "name": "stdout",
          "text": [
            "True\n",
            "True\n",
            "False\n",
            "False\n",
            "False\n"
          ]
        }
      ]
    },
    {
      "cell_type": "markdown",
      "source": [
        "Function that returns a Boolean"
      ],
      "metadata": {
        "id": "asbOD7Obk9ZO"
      }
    },
    {
      "cell_type": "code",
      "source": [
        "def my_Function():\n",
        "  return True\n",
        "\n",
        "  if(my_Function()):\n",
        "    print(\"Yes!\")\n",
        "  else:\n",
        "    print(\"No!\")"
      ],
      "metadata": {
        "id": "4HUj2BBbmHAE"
      },
      "execution_count": null,
      "outputs": []
    },
    {
      "cell_type": "markdown",
      "source": [
        "Application 1"
      ],
      "metadata": {
        "id": "8MbcNJsnmxE8"
      }
    },
    {
      "cell_type": "code",
      "source": [
        "c=6         #110 in binary\n",
        "d=7         #111 in binary\n",
        "print(c==d)\n",
        "print(c!=c)"
      ],
      "metadata": {
        "colab": {
          "base_uri": "https://localhost:8080/"
        },
        "id": "f7OuIF_5myue",
        "outputId": "35d872d6-46f4-45f5-a730-0f40f38478b9"
      },
      "execution_count": null,
      "outputs": [
        {
          "output_type": "stream",
          "name": "stdout",
          "text": [
            "False\n",
            "False\n"
          ]
        }
      ]
    },
    {
      "cell_type": "markdown",
      "source": [
        "Python Operators"
      ],
      "metadata": {
        "id": "WAWnx2d6ocnm"
      }
    },
    {
      "cell_type": "code",
      "source": [
        "print(10+9) #addition\n",
        "print(10-9) #subtraction\n",
        "print(10*9) #multiplications\n",
        "print(10/5) #division\n",
        "10//3       #floor division\n",
        "print(10%3) #remainder  10/3=.33  remainder 1\n",
        "print(10**2) "
      ],
      "metadata": {
        "colab": {
          "base_uri": "https://localhost:8080/"
        },
        "id": "Z4eurnAGofT0",
        "outputId": "f7e7bb16-23f4-4751-97ef-6cb76601f307"
      },
      "execution_count": null,
      "outputs": [
        {
          "output_type": "stream",
          "name": "stdout",
          "text": [
            "19\n",
            "1\n",
            "90\n",
            "2.0\n",
            "1\n",
            "100\n"
          ]
        }
      ]
    },
    {
      "cell_type": "markdown",
      "source": [
        "Bitwise Operators"
      ],
      "metadata": {
        "id": "tKWs3ZoQsCEg"
      }
    },
    {
      "cell_type": "code",
      "source": [
        "e = 60\n",
        "f = 13\n",
        "e ^ f"
      ],
      "metadata": {
        "colab": {
          "base_uri": "https://localhost:8080/"
        },
        "id": "ofV-u0PqsGI4",
        "outputId": "ba84f5d3-5f0e-454d-8812-9c3067125eef"
      },
      "execution_count": null,
      "outputs": [
        {
          "output_type": "execute_result",
          "data": {
            "text/plain": [
              "49"
            ]
          },
          "metadata": {},
          "execution_count": 27
        }
      ]
    },
    {
      "cell_type": "markdown",
      "source": [
        "Python Assignment Operator"
      ],
      "metadata": {
        "id": "xEx1yaEms88H"
      }
    },
    {
      "cell_type": "code",
      "source": [
        "x = 4\n",
        "x+=3  #x = x+3, x = 4+3 = 7\n",
        "print(\"x=\" ,x)"
      ],
      "metadata": {
        "colab": {
          "base_uri": "https://localhost:8080/"
        },
        "id": "8DM4cJXktg4G",
        "outputId": "3fae97ef-c49e-4b54-d13c-ce85c9ea90e7"
      },
      "execution_count": null,
      "outputs": [
        {
          "output_type": "stream",
          "name": "stdout",
          "text": [
            "x= 7\n"
          ]
        }
      ]
    },
    {
      "cell_type": "markdown",
      "source": [
        "Logical Operator"
      ],
      "metadata": {
        "id": "xGjzQb_Vubzl"
      }
    },
    {
      "cell_type": "code",
      "source": [
        "print((4>3) and (5!=5))   #and\n",
        "print((6==6) or (6!=6))   #or"
      ],
      "metadata": {
        "colab": {
          "base_uri": "https://localhost:8080/"
        },
        "id": "cYEPb6s6uoNH",
        "outputId": "3e079c21-a08f-4cd5-b9bc-ed1d6f9f6f82"
      },
      "execution_count": null,
      "outputs": [
        {
          "output_type": "stream",
          "name": "stdout",
          "text": [
            "False\n",
            "True\n"
          ]
        }
      ]
    },
    {
      "cell_type": "markdown",
      "source": [
        "Identify Operators"
      ],
      "metadata": {
        "id": "TO8OkaI6vpoX"
      }
    },
    {
      "cell_type": "code",
      "source": [
        "print(4 is 4)\n",
        "print(7 is not 7)"
      ],
      "metadata": {
        "colab": {
          "base_uri": "https://localhost:8080/"
        },
        "id": "vs5FK1Z-vr3a",
        "outputId": "6bfcce48-8e05-4bba-b1c0-30cac83aca4d"
      },
      "execution_count": null,
      "outputs": [
        {
          "output_type": "stream",
          "name": "stdout",
          "text": [
            "True\n",
            "False\n"
          ]
        }
      ]
    }
  ]
}