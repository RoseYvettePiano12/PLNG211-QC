{
  "nbformat": 4,
  "nbformat_minor": 0,
  "metadata": {
    "colab": {
      "provenance": [],
      "authorship_tag": "ABX9TyOPKS2aL8+/0xo/a1GKZTp8",
      "include_colab_link": true
    },
    "kernelspec": {
      "name": "python3",
      "display_name": "Python 3"
    },
    "language_info": {
      "name": "python"
    }
  },
  "cells": [
    {
      "cell_type": "markdown",
      "metadata": {
        "id": "view-in-github",
        "colab_type": "text"
      },
      "source": [
        "<a href=\"https://colab.research.google.com/github/RoseYvettePiano12/PLNG211-QC/blob/main/Loop_Statement.ipynb\" target=\"_parent\"><img src=\"https://colab.research.google.com/assets/colab-badge.svg\" alt=\"Open In Colab\"/></a>"
      ]
    },
    {
      "cell_type": "code",
      "execution_count": 6,
      "metadata": {
        "colab": {
          "base_uri": "https://localhost:8080/"
        },
        "id": "_FbDodvA2deI",
        "outputId": "4156d68f-b2a8-452b-8f0c-00ed556e2672"
      },
      "outputs": [
        {
          "output_type": "stream",
          "name": "stdout",
          "text": [
            "1\n",
            "2\n",
            "3\n"
          ]
        }
      ],
      "source": [
        "#Break Statement\n",
        "\n",
        "i = 1\n",
        "while i<6:\n",
        "   print(i)\n",
        "   if i==3:\n",
        "     break\n",
        "   i+=1         #increment, i = i + 1"
      ]
    },
    {
      "cell_type": "code",
      "source": [
        "#Break Statement Application 1\n",
        "# Display only 3 after using break statement\n",
        "\n",
        "i = 1\n",
        "while i<6:\n",
        "  if i==3:\n",
        "   print(i)\n",
        "   break\n",
        "  i+=1\n"
      ],
      "metadata": {
        "colab": {
          "base_uri": "https://localhost:8080/"
        },
        "id": "b-wsdjKo3lOm",
        "outputId": "ad763db6-6111-41a8-8167-104292b23d07"
      },
      "execution_count": 7,
      "outputs": [
        {
          "output_type": "stream",
          "name": "stdout",
          "text": [
            "3\n"
          ]
        }
      ]
    },
    {
      "cell_type": "code",
      "source": [
        "#Continue Statement\n",
        "\n",
        "i = 0\n",
        "while i<6:\n",
        "  i+=1\n",
        "  if i==3:\n",
        "    continue\n",
        "  print(i)"
      ],
      "metadata": {
        "colab": {
          "base_uri": "https://localhost:8080/"
        },
        "id": "HVsHORQC49_M",
        "outputId": "91043c7b-4fe4-41bb-a6dc-0cb85dc5e12d"
      },
      "execution_count": 10,
      "outputs": [
        {
          "output_type": "stream",
          "name": "stdout",
          "text": [
            "1\n",
            "2\n",
            "4\n",
            "5\n",
            "6\n"
          ]
        }
      ]
    },
    {
      "cell_type": "code",
      "source": [
        "#The Else Statement\n",
        "\n",
        "i = 1\n",
        "while i<6:\n",
        "  print(i)\n",
        "  i+=1\n",
        "else:\n",
        "  print(\"i is no longer less than 6\")"
      ],
      "metadata": {
        "colab": {
          "base_uri": "https://localhost:8080/"
        },
        "outputId": "c8b9962a-5587-4135-f4a6-cc6691a183ca",
        "id": "-yvRq9h26xk2"
      },
      "execution_count": 13,
      "outputs": [
        {
          "output_type": "stream",
          "name": "stdout",
          "text": [
            "1\n",
            "2\n",
            "3\n",
            "4\n",
            "5\n",
            "i is no longer less than 6\n"
          ]
        }
      ]
    },
    {
      "cell_type": "code",
      "source": [
        "#Application 2\n",
        "\n",
        "i = 0\n",
        "while i<=10:\n",
        "  print(\"Hello\", i)\n",
        "  i+=1"
      ],
      "metadata": {
        "colab": {
          "base_uri": "https://localhost:8080/"
        },
        "id": "cTBygCyJ7h81",
        "outputId": "85dedf14-7ee2-4b15-865e-19fb7499802f"
      },
      "execution_count": 14,
      "outputs": [
        {
          "output_type": "stream",
          "name": "stdout",
          "text": [
            "Hello 0\n",
            "Hello 1\n",
            "Hello 2\n",
            "Hello 3\n",
            "Hello 4\n",
            "Hello 5\n",
            "Hello 6\n",
            "Hello 7\n",
            "Hello 8\n",
            "Hello 9\n",
            "Hello 10\n"
          ]
        }
      ]
    },
    {
      "cell_type": "code",
      "source": [
        "for i in range(0, 11):\n",
        " print(f\"Hello {i}\")\n"
      ],
      "metadata": {
        "colab": {
          "base_uri": "https://localhost:8080/"
        },
        "id": "0ISJBOva9OC4",
        "outputId": "d811b219-39f9-430e-fe09-4e45b03d818e"
      },
      "execution_count": 15,
      "outputs": [
        {
          "output_type": "stream",
          "name": "stdout",
          "text": [
            "Hello 0\n",
            "Hello 1\n",
            "Hello 2\n",
            "Hello 3\n",
            "Hello 4\n",
            "Hello 5\n",
            "Hello 6\n",
            "Hello 7\n",
            "Hello 8\n",
            "Hello 9\n",
            "Hello 10\n"
          ]
        }
      ]
    },
    {
      "cell_type": "code",
      "source": [
        "#Application 3\n",
        "#Create a Python Program that displays integers less than 10 but not less than 3 {9,8,7,6,5,4,3}\n",
        "\n",
        "#for i in range(3,10):\n",
        "  #print(i)\n",
        "\n",
        "i = 9\n",
        "while i<10 and i>=3:\n",
        "  print(i)\n",
        "  i-=1"
      ],
      "metadata": {
        "colab": {
          "base_uri": "https://localhost:8080/"
        },
        "id": "I19siQR--HSG",
        "outputId": "72640116-5118-4fb2-b630-0480b7cb9189"
      },
      "execution_count": 19,
      "outputs": [
        {
          "output_type": "stream",
          "name": "stdout",
          "text": [
            "9\n",
            "8\n",
            "7\n",
            "6\n",
            "5\n",
            "4\n",
            "3\n"
          ]
        }
      ]
    }
  ]
}