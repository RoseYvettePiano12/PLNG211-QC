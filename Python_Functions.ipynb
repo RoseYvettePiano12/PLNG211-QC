{
  "nbformat": 4,
  "nbformat_minor": 0,
  "metadata": {
    "colab": {
      "provenance": [],
      "authorship_tag": "ABX9TyPEBdHQjazz9kBH+emMkPJI",
      "include_colab_link": true
    },
    "kernelspec": {
      "name": "python3",
      "display_name": "Python 3"
    },
    "language_info": {
      "name": "python"
    }
  },
  "cells": [
    {
      "cell_type": "markdown",
      "metadata": {
        "id": "view-in-github",
        "colab_type": "text"
      },
      "source": [
        "<a href=\"https://colab.research.google.com/github/RoseYvettePiano12/PLNG211-QC/blob/main/Python_Functions.ipynb\" target=\"_parent\"><img src=\"https://colab.research.google.com/assets/colab-badge.svg\" alt=\"Open In Colab\"/></a>"
      ]
    },
    {
      "cell_type": "code",
      "execution_count": null,
      "metadata": {
        "colab": {
          "base_uri": "https://localhost:8080/"
        },
        "id": "DrEx99tsT-iZ",
        "outputId": "83a264eb-a8de-46b9-d941-166e23425728"
      },
      "outputs": [
        {
          "output_type": "stream",
          "name": "stdout",
          "text": [
            "100\n",
            "Celsius 37.78\n",
            "Kelvin 310.93\n"
          ]
        }
      ],
      "source": [
        "#Writing your own function/conversion\n",
        "\n",
        "def convert_to_celsius(fahrenheit):\n",
        "  return (fahrenheit-32) *5/9\n",
        "\n",
        "def convert_to_kelvin(fahrenheit):\n",
        "  return ((fahrenheit - 32) *5/9) + 273.15\n",
        "fahrenheit = int(input())\n",
        "\n",
        "print(\"Celsius\",round(convert_to_celsius(fahrenheit),2))\n",
        "print(\"Kelvin\",round(convert_to_kelvin(fahrenheit),2))\n"
      ]
    },
    {
      "cell_type": "code",
      "source": [
        "def Name():\n",
        "  pass"
      ],
      "metadata": {
        "id": "jFYhJZEbVxYB"
      },
      "execution_count": null,
      "outputs": []
    },
    {
      "cell_type": "code",
      "source": [
        "def my_function(fname):\n",
        "  return(fname + \"Sayo\")\n",
        "\n",
        "print(my_function(\"Mam\"))\n",
        "print(my_function(\"Maria\"))\n",
        "print(my_function(\"Rizette\"))"
      ],
      "metadata": {
        "colab": {
          "base_uri": "https://localhost:8080/"
        },
        "id": "Sr0BeP_6V1Sx",
        "outputId": "df70e35b-bb46-4174-b589-9181ef025cef"
      },
      "execution_count": null,
      "outputs": [
        {
          "output_type": "stream",
          "name": "stdout",
          "text": [
            "MamSayo\n",
            "MariaSayo\n",
            "RizetteSayo\n"
          ]
        }
      ]
    },
    {
      "cell_type": "code",
      "source": [
        "#Returns a value\n",
        "\n",
        "def myFunction(x):\n",
        " return(5+x)\n",
        "\n",
        "print(myFunction(4))\n",
        "print(myFunction(5))\n",
        "print(myFunction(6))"
      ],
      "metadata": {
        "colab": {
          "base_uri": "https://localhost:8080/"
        },
        "id": "ZApgxx-fq1wC",
        "outputId": "bf2fe46a-6694-4eaf-ef13-5b82c0c516c0"
      },
      "execution_count": 4,
      "outputs": [
        {
          "output_type": "stream",
          "name": "stdout",
          "text": [
            "9\n",
            "10\n",
            "11\n"
          ]
        }
      ]
    },
    {
      "cell_type": "code",
      "source": [
        "#Exercise 1\n",
        "\n",
        "print(min(2, 3,4,))\n",
        "print(max(2, -3, 4, 7, -5))\n",
        "print(max(2, -3, min(4, 7), -5))"
      ],
      "metadata": {
        "colab": {
          "base_uri": "https://localhost:8080/"
        },
        "id": "cVeZS_2PWfP4",
        "outputId": "8b3d41ef-b6b1-4a29-d355-7e673ec1d9ea"
      },
      "execution_count": 5,
      "outputs": [
        {
          "output_type": "stream",
          "name": "stdout",
          "text": [
            "2\n",
            "7\n",
            "4\n"
          ]
        }
      ]
    },
    {
      "cell_type": "code",
      "source": [
        "#Exercise 2\n",
        "\n",
        "import math\n",
        "\n",
        "def sum(num1,num2,num3):\n",
        "  return num1 + num2 + num3\n",
        "def average(num1,num2,num3):\n",
        "  return num1 + num2 + num3/3\n",
        "def sumSquare(num1,num2,num3):\n",
        "  return math.pow(num1,2) + math.pow(num2,2) + math.pow(num3,2)\n",
        "\n",
        "num1= int(input())\n",
        "num2= int(input())\n",
        "num3= int(input())\n",
        "\n",
        "print(\"Sum =\",sum(num1,num2,num3))\n",
        "print(\"Average =\",average(num1,num2,num3))\n",
        "print(\"Sum of Squares =\",sumSquare(num1,num2,num3))"
      ],
      "metadata": {
        "colab": {
          "base_uri": "https://localhost:8080/"
        },
        "id": "0E16VPi7Xr0u",
        "outputId": "a2226b79-489e-4e10-edac-79f7d73f6b13"
      },
      "execution_count": 7,
      "outputs": [
        {
          "output_type": "stream",
          "name": "stdout",
          "text": [
            "5\n",
            "18\n",
            "9\n",
            "Sum = 32\n",
            "Average = 26.0\n",
            "Sum of Squares = 430.0\n"
          ]
        }
      ]
    }
  ]
}