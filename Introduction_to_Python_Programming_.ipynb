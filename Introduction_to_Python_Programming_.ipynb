{
  "nbformat": 4,
  "nbformat_minor": 0,
  "metadata": {
    "colab": {
      "provenance": [],
      "authorship_tag": "ABX9TyOy32BgsD/xtE2H8yR+fNep",
      "include_colab_link": true
    },
    "kernelspec": {
      "name": "python3",
      "display_name": "Python 3"
    },
    "language_info": {
      "name": "python"
    }
  },
  "cells": [
    {
      "cell_type": "markdown",
      "metadata": {
        "id": "view-in-github",
        "colab_type": "text"
      },
      "source": [
        "<a href=\"https://colab.research.google.com/github/RoseYvettePiano12/PLNG211-QC/blob/main/Introduction_to_Python_Programming_.ipynb\" target=\"_parent\"><img src=\"https://colab.research.google.com/assets/colab-badge.svg\" alt=\"Open In Colab\"/></a>"
      ]
    },
    {
      "cell_type": "code",
      "execution_count": null,
      "metadata": {
        "id": "8ry_z-vvLcxv"
      },
      "outputs": [],
      "source": [
        "Python Indentation"
      ]
    },
    {
      "cell_type": "code",
      "source": [
        "#This is an example of Python Indentation\n",
        "\n",
        "if 5>2:\n",
        "   print(\"5 is greater than 2\")"
      ],
      "metadata": {
        "colab": {
          "base_uri": "https://localhost:8080/"
        },
        "id": "mBy5cHofLqnY",
        "outputId": "58ef1786-fea2-49f7-dd18-87f2e0bbe2fa"
      },
      "execution_count": 1,
      "outputs": [
        {
          "output_type": "stream",
          "name": "stdout",
          "text": [
            "5 is greater than 2\n"
          ]
        }
      ]
    },
    {
      "cell_type": "markdown",
      "source": [
        "Phyton Variable"
      ],
      "metadata": {
        "id": "YRt24LIFL_km"
      }
    },
    {
      "cell_type": "code",
      "source": [
        "x = 1\n",
        "a,b=0,-1\n",
        "a = 9\n",
        "c = \"sally\"\n",
        "c = \"danny\"\n",
        "print (a)\n",
        "print(c)\n",
        "c = \"maria\"\n",
        "print(c)"
      ],
      "metadata": {
        "colab": {
          "base_uri": "https://localhost:8080/"
        },
        "id": "fjv92Qhgs9ut",
        "outputId": "de3276f3-2d93-4107-cb8a-ed1c003c442f"
      },
      "execution_count": null,
      "outputs": [
        {
          "output_type": "stream",
          "name": "stdout",
          "text": [
            "9\n",
            "danny\n",
            "maria\n"
          ]
        }
      ]
    },
    {
      "cell_type": "markdown",
      "source": [
        "Casting"
      ],
      "metadata": {
        "id": "WDAGJeeIMK7O"
      }
    },
    {
      "cell_type": "code",
      "source": [
        "d = int(4)\n",
        "print(d)\n",
        "e = float(4)\n",
        "print(e)"
      ],
      "metadata": {
        "colab": {
          "base_uri": "https://localhost:8080/"
        },
        "id": "gIafX-q7utmn",
        "outputId": "254075c2-2425-41b8-dcc0-f67066894f79"
      },
      "execution_count": null,
      "outputs": [
        {
          "output_type": "stream",
          "name": "stdout",
          "text": [
            "4\n",
            "4.0\n"
          ]
        }
      ]
    },
    {
      "cell_type": "markdown",
      "source": [
        "Type () function"
      ],
      "metadata": {
        "id": "CV2oAg1wMQFe"
      }
    },
    {
      "cell_type": "code",
      "source": [
        "print(type(d))\n",
        "print(type(e))"
      ],
      "metadata": {
        "colab": {
          "base_uri": "https://localhost:8080/"
        },
        "id": "yseO4-lUvdQ7",
        "outputId": "2ab24a12-012f-4139-dade-b7ffbe259704"
      },
      "execution_count": null,
      "outputs": [
        {
          "output_type": "stream",
          "name": "stdout",
          "text": [
            "<class 'int'>\n",
            "<class 'float'>\n"
          ]
        }
      ]
    },
    {
      "cell_type": "markdown",
      "source": [
        "Single quotes or Double quotes"
      ],
      "metadata": {
        "id": "qhofiKcwMWwW"
      }
    },
    {
      "cell_type": "code",
      "source": [
        "f= \"maria\"\n",
        "print(f)\n",
        "g = 'ana'\n",
        "print(g)"
      ],
      "metadata": {
        "colab": {
          "base_uri": "https://localhost:8080/"
        },
        "id": "RVdOATqmwZmb",
        "outputId": "5bcf0b06-d772-49f1-fbbd-435af90df134"
      },
      "execution_count": null,
      "outputs": [
        {
          "output_type": "stream",
          "name": "stdout",
          "text": [
            "maria\n",
            "ana\n"
          ]
        }
      ]
    },
    {
      "cell_type": "markdown",
      "source": [
        "Multiple Variable"
      ],
      "metadata": {
        "id": "yeMMMHT7Mek2"
      }
    },
    {
      "cell_type": "code",
      "source": [
        "x,y,z=4,5,6\n",
        "print(x)\n",
        "print(y)\n",
        "print(z)"
      ],
      "metadata": {
        "colab": {
          "base_uri": "https://localhost:8080/"
        },
        "id": "LA1Wk6B3wzMT",
        "outputId": "118ac53d-f5c9-47f6-e8e4-0a4684dbb47f"
      },
      "execution_count": null,
      "outputs": [
        {
          "output_type": "stream",
          "name": "stdout",
          "text": [
            "4\n",
            "5\n",
            "6\n"
          ]
        }
      ]
    },
    {
      "cell_type": "markdown",
      "source": [
        "Single Value to a Multiple Variables"
      ],
      "metadata": {
        "id": "gE27go4xMi9W"
      }
    },
    {
      "cell_type": "code",
      "source": [
        "x=y=z=\"lilo\"\n",
        "print(x)\n",
        "print(y)\n",
        "print(z)"
      ],
      "metadata": {
        "colab": {
          "base_uri": "https://localhost:8080/"
        },
        "id": "NbVE_9_lxzVa",
        "outputId": "eb8d8a30-a516-436f-8e1d-cc8dd3ac52dd"
      },
      "execution_count": null,
      "outputs": [
        {
          "output_type": "stream",
          "name": "stdout",
          "text": [
            "lilo\n",
            "lilo\n",
            "lilo\n"
          ]
        }
      ]
    },
    {
      "cell_type": "markdown",
      "source": [
        "Output Variable using Print and +"
      ],
      "metadata": {
        "id": "pjinx42AMo--"
      }
    },
    {
      "cell_type": "code",
      "source": [
        "s=\"python is\"\n",
        "t=\"enjoying\"\n",
        "print(\"python is\"+\" \"+ t)\n",
        "print(s+' '+t)"
      ],
      "metadata": {
        "colab": {
          "base_uri": "https://localhost:8080/"
        },
        "id": "4uqvB2WLOreW",
        "outputId": "cebd2e81-aa3c-4827-af3c-a10a27caa590"
      },
      "execution_count": 2,
      "outputs": [
        {
          "output_type": "stream",
          "name": "stdout",
          "text": [
            "python is enjoying\n",
            "python is enjoying\n"
          ]
        }
      ]
    },
    {
      "cell_type": "markdown",
      "source": [
        "Arithmetic"
      ],
      "metadata": {
        "id": "LJq3hu1hP5SF"
      }
    },
    {
      "cell_type": "code",
      "source": [
        "x = 1\n",
        "y = 2\n",
        "sum = x+y\n",
        "x\n",
        "y\n",
        "sum\n",
        "print(x)\n",
        "print(y)\n",
        "print(sum)\n",
        "\n",
        "#modulo division\n",
        "l = 4%2\n",
        "print(\"4%2=\", l )\n",
        "\n",
        "#floor division\n",
        "k= 3//2\n",
        "print(\"3/2=\", k )\n"
      ],
      "metadata": {
        "colab": {
          "base_uri": "https://localhost:8080/"
        },
        "id": "bOm2bSJ3P7CV",
        "outputId": "ccb4720c-8f11-4c38-c42a-ac76afeb413f"
      },
      "execution_count": 3,
      "outputs": [
        {
          "output_type": "stream",
          "name": "stdout",
          "text": [
            "1\n",
            "2\n",
            "3\n",
            "4%2= 0\n",
            "3/2= 1\n"
          ]
        }
      ]
    },
    {
      "cell_type": "markdown",
      "source": [
        "Assignment Operator"
      ],
      "metadata": {
        "id": "euzNzZKRQWj8"
      }
    },
    {
      "cell_type": "code",
      "source": [
        "x = 1\n",
        "x+=1\n",
        "print(x)"
      ],
      "metadata": {
        "colab": {
          "base_uri": "https://localhost:8080/"
        },
        "id": "S8D6mYr6QYqU",
        "outputId": "d800b5bd-cedf-47c8-b1c5-42711bcf4b20"
      },
      "execution_count": 4,
      "outputs": [
        {
          "output_type": "stream",
          "name": "stdout",
          "text": [
            "2\n"
          ]
        }
      ]
    },
    {
      "cell_type": "markdown",
      "source": [
        "Logical Operator"
      ],
      "metadata": {
        "id": "H1C5jOUdQdD9"
      }
    },
    {
      "cell_type": "code",
      "source": [
        "q = 1\n",
        "r = 4\n",
        "q>r and r==r"
      ],
      "metadata": {
        "colab": {
          "base_uri": "https://localhost:8080/"
        },
        "id": "5hFeByxGQerP",
        "outputId": "d3fcf137-912c-4a56-87c5-39b94f93bbec"
      },
      "execution_count": 5,
      "outputs": [
        {
          "output_type": "execute_result",
          "data": {
            "text/plain": [
              "False"
            ]
          },
          "metadata": {},
          "execution_count": 5
        }
      ]
    }
  ]
}