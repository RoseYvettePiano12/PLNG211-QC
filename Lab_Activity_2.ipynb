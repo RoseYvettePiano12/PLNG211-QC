{
  "nbformat": 4,
  "nbformat_minor": 0,
  "metadata": {
    "colab": {
      "provenance": [],
      "authorship_tag": "ABX9TyMH92NVZBtaF39LwCpMWI7/",
      "include_colab_link": true
    },
    "kernelspec": {
      "name": "python3",
      "display_name": "Python 3"
    },
    "language_info": {
      "name": "python"
    }
  },
  "cells": [
    {
      "cell_type": "markdown",
      "metadata": {
        "id": "view-in-github",
        "colab_type": "text"
      },
      "source": [
        "<a href=\"https://colab.research.google.com/github/RoseYvettePiano12/PLNG211-QC/blob/main/Lab_Activity_2.ipynb\" target=\"_parent\"><img src=\"https://colab.research.google.com/assets/colab-badge.svg\" alt=\"Open In Colab\"/></a>"
      ]
    },
    {
      "cell_type": "code",
      "execution_count": null,
      "metadata": {
        "colab": {
          "base_uri": "https://localhost:8080/"
        },
        "id": "bvyWfa_pDeuX",
        "outputId": "0972c3ec-d40d-4a30-eff3-64e4da204b16"
      },
      "outputs": [
        {
          "output_type": "stream",
          "name": "stdout",
          "text": [
            "Rose Yvette T. Piano \n",
            "02210007490\n",
            "19\n",
            "Our Lady Fatima University\n",
            "Bachelor in Science Computer Science\n"
          ]
        }
      ],
      "source": [
        "Name = \"Rose Yvette T. Piano \"\n",
        "Student_No = \"02210007490\"\n",
        "Age = 19\n",
        "School = \"Our Lady Fatima University\"\n",
        "Course = \"Bachelor in Science Computer Science\"\n",
        "#2\n",
        "class Student:\n",
        "  def __init__(self,Name, Student_No, Age,School,Course):\n",
        "    self.Name = Name\n",
        "    self.Student_No = Student_No\n",
        "    self.Age = Age\n",
        "    self.School = School\n",
        "    self.Course = Course\n",
        "  #4\n",
        "  def info(self):\n",
        "    print(\"\"+self.Name)\n",
        "    print(self.Student_No)\n",
        "    print(self.Age)\n",
        "    print(\"\"+self.School)\n",
        "    print(\"\"+self.Course)\n",
        "#3\n",
        "Myself = Student(Name,Student_No,Age,School,Course)\n",
        "#4\n",
        "Myself.info() "
      ]
    }
  ]
}