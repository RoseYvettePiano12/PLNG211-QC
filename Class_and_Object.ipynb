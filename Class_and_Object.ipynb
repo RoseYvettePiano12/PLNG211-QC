{
  "nbformat": 4,
  "nbformat_minor": 0,
  "metadata": {
    "colab": {
      "provenance": [],
      "authorship_tag": "ABX9TyOJS+2/9h2tCWpT1IjgaUHc",
      "include_colab_link": true
    },
    "kernelspec": {
      "name": "python3",
      "display_name": "Python 3"
    },
    "language_info": {
      "name": "python"
    }
  },
  "cells": [
    {
      "cell_type": "markdown",
      "metadata": {
        "id": "view-in-github",
        "colab_type": "text"
      },
      "source": [
        "<a href=\"https://colab.research.google.com/github/RoseYvettePiano12/PLNG211-QC/blob/main/Class_and_Object.ipynb\" target=\"_parent\"><img src=\"https://colab.research.google.com/assets/colab-badge.svg\" alt=\"Open In Colab\"/></a>"
      ]
    },
    {
      "cell_type": "code",
      "execution_count": 1,
      "metadata": {
        "colab": {
          "base_uri": "https://localhost:8080/"
        },
        "id": "bNHS8isQhQEy",
        "outputId": "d1239e8e-0b58-41a1-cecc-bea2d9327f92"
      },
      "outputs": [
        {
          "output_type": "stream",
          "name": "stdout",
          "text": [
            "The name of the person is: Ana\n",
            "The age of the person is: 36\n",
            "The name of the student is: Lino\n",
            "The age of the student is: 32\n",
            "The name of the teacher is: Maria\n",
            "The age of the teacher is: 39\n"
          ]
        }
      ],
      "source": [
        "class Person:\n",
        "  def __init__(self,name,age):\n",
        "    self.name = name                #attributes\n",
        "    self.age = age\n",
        "class Student(Person):\n",
        "  pass\n",
        "\n",
        "class Teacher(Person):\n",
        "  pass\n",
        "person1 = Person(\"Ana\",36)         #instantiation/add a value to an attribute\n",
        "print(\"The name of the person is:\",person1.name)\n",
        "print(\"The age of the person is:\",person1.age)\n",
        "\n",
        "person2 = Student(\"Lino\",32)      #inheritance\n",
        "print(\"The name of the student is:\",person2.name)\n",
        "print(\"The age of the student is:\",person2.age)\n",
        "\n",
        "person3 = Teacher(\"Maria\",39)\n",
        "print(\"The name of the teacher is:\",person3.name)\n",
        "print(\"The age of the teacher is:\",person3.age)"
      ]
    },
    {
      "cell_type": "code",
      "source": [
        "#Application 1. Write a Rectangle class in Python language with length and width as attributes\n",
        "#Create a Perimeter () and Area () as methods to compute for the perimeter and area of a rectangle\n",
        "\n",
        "length=int(input(\"Length : \"))\n",
        "width=int(input(\"Width : \"))\n",
        "area=length*width\n",
        "perimeter=2*(length+width)\n",
        "print(\"Area of Rectangle : \",area)\n",
        "print(\"Perimeter of Rectangle : \",perimeter) "
      ],
      "metadata": {
        "colab": {
          "base_uri": "https://localhost:8080/"
        },
        "id": "uPlz0etBh-cT",
        "outputId": "00c865e7-4de4-42ca-e5a2-c74891fa0982"
      },
      "execution_count": 11,
      "outputs": [
        {
          "output_type": "stream",
          "name": "stdout",
          "text": [
            "Length : 12\n",
            "Width : 10\n",
            "Area of Rectangle :  120\n",
            "Perimeter of Rectangle :  44\n"
          ]
        }
      ]
    }
  ]
}